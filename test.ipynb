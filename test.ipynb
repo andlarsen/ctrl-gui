{
 "cells": [
  {
   "cell_type": "code",
   "execution_count": 1,
   "id": "8df897c9",
   "metadata": {},
   "outputs": [],
   "source": [
    "import sympy as sp\n",
    "import numpy as np\n",
    "from classes.defs_sympy import *"
   ]
  },
  {
   "cell_type": "code",
   "execution_count": 2,
   "id": "89254717",
   "metadata": {},
   "outputs": [],
   "source": [
    "s, t = sp.symbols('s, t')"
   ]
  },
  {
   "cell_type": "code",
   "execution_count": 3,
   "id": "1504915b",
   "metadata": {},
   "outputs": [],
   "source": [
    "M, B, K = sp.symbols('M, B, K', real=True)\n",
    "w_n, zeta = sp.symbols('w_n, zeta', real=True)\n",
    "x = sp.Function('x')(t)\n",
    "f = sp.Function('f')(t)\n",
    "x0, xdot0 = sp.symbols('x0 xdot0')"
   ]
  },
  {
   "cell_type": "code",
   "execution_count": 4,
   "id": "d0844a1d",
   "metadata": {},
   "outputs": [
    {
     "name": "stdout",
     "output_type": "stream",
     "text": [
      "Laplace-domain equation:\n",
      "                              ⎛             2⎞\n",
      "F = -B⋅x₀ - M⋅s⋅x₀ - M⋅ẋ₀ + X⋅⎝B⋅s + K + M⋅s ⎠\n",
      "\n",
      "X(s) =\n",
      "      F       \n",
      "──────────────\n",
      "             2\n",
      "B⋅s + K + M⋅s \n",
      "\n",
      "Transfer Function G(s) = X(s)/F(s) =\n",
      "      1       \n",
      "──────────────\n",
      "             2\n",
      "B⋅s + K + M⋅s \n"
     ]
    }
   ],
   "source": [
    "# Time-domain differential equation\n",
    "eq = sp.Eq(M*sp.diff(x, t, 2) + B*sp.diff(x, t) + K*x, f)\n",
    "\n",
    "# Initial conditions\n",
    "x0, xdot0 = sp.symbols('x0 xdot0')\n",
    "\n",
    "# Take Laplace transform of both sides\n",
    "lhs_L = sp.laplace_transform(eq.lhs, t, s, noconds=True)\n",
    "rhs_L = sp.laplace_transform(eq.rhs, t, s, noconds=True)\n",
    "\n",
    "# Replace LaplaceTransform(x(t), t, s) with X(s), LaplaceTransform(f(t), t, s) with F(s)\n",
    "X, F = sp.symbols('X F')\n",
    "lhs_L = lhs_L.replace(sp.LaplaceTransform(x, t, s), X)\n",
    "rhs_L = rhs_L.replace(sp.LaplaceTransform(f, t, s), F)\n",
    "\n",
    "# Substitute initial conditions\n",
    "lhs_L = lhs_L.subs({\n",
    "    x.subs(t, 0): x0,\n",
    "    sp.Derivative(x, t).subs(t, 0): xdot0\n",
    "})\n",
    "\n",
    "# Simplify Laplace-domain equation\n",
    "laplace_eq = sp.Eq(sp.collect(sp.expand(lhs_L),X), sp.collect(sp.expand(rhs_L),F))\n",
    "laplace_eq = sp.simplify(laplace_eq)\n",
    "print(\"Laplace-domain equation:\")\n",
    "sp.pretty_print(laplace_eq)\n",
    "\n",
    "# Solve for X(s)\n",
    "X_s = sp.solve(laplace_eq, X)[0]\n",
    "X_s = sp.simplify(X_s)\n",
    "X_s = X_s.subs('x0',0)\n",
    "X_s = X_s.subs('xdot0',0)\n",
    "print(\"\\nX(s) =\")\n",
    "sp.pretty_print(X_s)\n",
    "\n",
    "# Transfer function G(s) = X(s)/F(s)\n",
    "G = sp.simplify(X_s / F)\n",
    "print(\"\\nTransfer Function G(s) = X(s)/F(s) =\")\n",
    "sp.pretty_print(G)\n"
   ]
  },
  {
   "cell_type": "code",
   "execution_count": 1,
   "id": "778139a9",
   "metadata": {},
   "outputs": [
    {
     "name": "stdout",
     "output_type": "stream",
     "text": [
      "{y: <class 'sympy.core.symbol.Symbol'>0, 0: <class 'sympy.core.symbol.Symbol'>ddot0, u: <class 'sympy.core.symbol.Symbol'>0}\n",
      "{<class 'sympy.core.symbol.Symbol'>0: np.float64(0.0), <class 'sympy.core.symbol.Symbol'>dot0: 0, <class 'sympy.core.symbol.Symbol'>ddot0: 0}\n"
     ]
    },
    {
     "ename": "NameError",
     "evalue": "name 'zeta' is not defined",
     "output_type": "error",
     "traceback": [
      "\u001b[0;31m---------------------------------------------------------------------------\u001b[0m",
      "\u001b[0;31mNameError\u001b[0m                                 Traceback (most recent call last)",
      "Cell \u001b[0;32mIn[1], line 16\u001b[0m\n\u001b[1;32m     12\u001b[0m rhs \u001b[38;5;241m=\u001b[39m \u001b[38;5;124m'\u001b[39m\u001b[38;5;124mu\u001b[39m\u001b[38;5;124m'\u001b[39m\n\u001b[1;32m     14\u001b[0m w_n, zeta \u001b[38;5;241m=\u001b[39m sp\u001b[38;5;241m.\u001b[39msymbols(\u001b[38;5;124m'\u001b[39m\u001b[38;5;124mw_n, zeta\u001b[39m\u001b[38;5;124m'\u001b[39m, real\u001b[38;5;241m=\u001b[39m\u001b[38;5;28;01mTrue\u001b[39;00m)\n\u001b[0;32m---> 16\u001b[0m \u001b[43mdefs_sympy\u001b[49m\u001b[38;5;241;43m.\u001b[39;49m\u001b[43mmake_tf_from_diff_eq\u001b[49m\u001b[43m(\u001b[49m\u001b[43mlhs\u001b[49m\u001b[43m,\u001b[49m\u001b[43mrhs\u001b[49m\u001b[43m,\u001b[49m\u001b[38;5;124;43m'\u001b[39;49m\u001b[38;5;124;43my\u001b[39;49m\u001b[38;5;124;43m'\u001b[39;49m\u001b[43m,\u001b[49m\u001b[38;5;124;43m'\u001b[39;49m\u001b[38;5;124;43mu\u001b[39;49m\u001b[38;5;124;43m'\u001b[39;49m\u001b[43m)\u001b[49m\n",
      "File \u001b[0;32m~/git/ctrl-gui/classes/defs_sympy.py:196\u001b[0m, in \u001b[0;36mmake_tf_from_diff_eq\u001b[0;34m(lhs, rhs, input_symbol, output_symbol)\u001b[0m\n\u001b[1;32m    194\u001b[0m lhs \u001b[38;5;241m=\u001b[39m translate_string(lhs)\n\u001b[1;32m    195\u001b[0m rhs \u001b[38;5;241m=\u001b[39m translate_string(rhs)\n\u001b[0;32m--> 196\u001b[0m lhs \u001b[38;5;241m=\u001b[39m \u001b[38;5;28;43meval\u001b[39;49m\u001b[43m(\u001b[49m\u001b[43mlhs\u001b[49m\u001b[43m)\u001b[49m\n\u001b[1;32m    197\u001b[0m rhs \u001b[38;5;241m=\u001b[39m \u001b[38;5;28meval\u001b[39m(rhs)\n\u001b[1;32m    198\u001b[0m \u001b[38;5;28mprint\u001b[39m(lhs)\n",
      "File \u001b[0;32m<string>:1\u001b[0m\n",
      "\u001b[0;31mNameError\u001b[0m: name 'zeta' is not defined"
     ]
    }
   ],
   "source": [
    "import sympy as sp\n",
    "import numpy as np\n",
    "import classes.defs_sympy as defs_sympy\n",
    "# s, t = sp.symbols('s, t')\n",
    "\n",
    "# x = sp.Function('x')(t)\n",
    "# f = sp.Function('f')(t)\n",
    "# X, F = sp.symbols('X F')\n",
    "\n",
    "\n",
    "lhs = 'ddot(y)+2*zeta*w_n*dot(y)+w_n**2*y'\n",
    "rhs = 'u'\n",
    "\n",
    "w_n, zeta = sp.symbols('w_n, zeta', real=True)\n",
    "\n",
    "defs_sympy.make_tf_from_diff_eq(lhs,rhs,'y','u')"
   ]
  },
  {
   "cell_type": "code",
   "execution_count": 2,
   "id": "8f0e96ec",
   "metadata": {},
   "outputs": [
    {
     "name": "stdout",
     "output_type": "stream",
     "text": [
      "{x(0): x0, Subs(Derivative(x(t), t), t, 0): xdot0, Subs(Derivative(x(t), (t, 2)), t, 0): xddot0, f(0): f0}\n",
      "{x0: 0, xdot0: 0, xddot0: 0, f0: np.float64(0.0)}\n",
      "w_n**2*x(t) + 2*w_n*zeta*Derivative(x(t), t) + Derivative(x(t), (t, 2))\n",
      "f(t)\n"
     ]
    }
   ],
   "source": [
    "x = sp.Function('x')(t)\n",
    "f = sp.Function('f')(t)\n",
    "X, F = sp.symbols('X F')\n",
    "\n",
    "lhs = 'ddot(x)+2*zeta*w_n*dot(x)+w_n**2*x'\n",
    "# rhs = 'dot(f)+w_n**2*f'\n",
    "rhs = 'f'\n",
    "\n",
    "w_n, zeta = sp.symbols('w_n, zeta', real=True)\n",
    "\n",
    "subs_ic = {}\n",
    "ics = {}\n",
    "\n",
    "x_subs, x_symbols, x_ics = defs_sympy.make_ic_subs(lhs,x,t,[0,0,0])\n",
    "f_subs, f_symbols, f_ics = defs_sympy.make_ic_subs(rhs,f,t)\n",
    "\n",
    "subs_ic = {**x_subs, **f_subs}\n",
    "ics = {**x_ics, **f_ics}\n",
    "\n",
    "print(subs_ic)\n",
    "print(ics)\n",
    "\n",
    "lhs = defs_sympy.translate_string(lhs)\n",
    "rhs = defs_sympy.translate_string(rhs)\n",
    "lhs = eval(lhs)\n",
    "rhs = eval(rhs)\n",
    "print(lhs)\n",
    "print(rhs)"
   ]
  },
  {
   "cell_type": "code",
   "execution_count": null,
   "id": "838fb809",
   "metadata": {},
   "outputs": [
    {
     "ename": "TypeError",
     "evalue": "expecting string or Symbol for name",
     "output_type": "error",
     "traceback": [
      "\u001b[0;31m---------------------------------------------------------------------------\u001b[0m",
      "\u001b[0;31mTypeError\u001b[0m                                 Traceback (most recent call last)",
      "Cell \u001b[0;32mIn[5], line 7\u001b[0m\n\u001b[1;32m      2\u001b[0m eq \u001b[38;5;241m=\u001b[39m sp\u001b[38;5;241m.\u001b[39mEq(lhs,rhs)\n\u001b[1;32m      4\u001b[0m \u001b[38;5;66;03m# Take Laplace transform of both sides\u001b[39;00m\n\u001b[1;32m      5\u001b[0m \u001b[38;5;66;03m# lhs_L = sp.laplace_transform(eq.lhs, t, s, noconds=True)\u001b[39;00m\n\u001b[1;32m      6\u001b[0m \u001b[38;5;66;03m# rhs_L = sp.laplace_transform(eq.rhs, t, s, noconds=True)\u001b[39;00m\n\u001b[0;32m----> 7\u001b[0m lhs_L \u001b[38;5;241m=\u001b[39m \u001b[43mdefs_sympy\u001b[49m\u001b[38;5;241;43m.\u001b[39;49m\u001b[43mL\u001b[49m\u001b[43m(\u001b[49m\u001b[43meq\u001b[49m\u001b[38;5;241;43m.\u001b[39;49m\u001b[43mlhs\u001b[49m\u001b[43m,\u001b[49m\u001b[43mx\u001b[49m\u001b[43m)\u001b[49m\n\u001b[1;32m      8\u001b[0m rhs_L \u001b[38;5;241m=\u001b[39m defs_sympy\u001b[38;5;241m.\u001b[39mL(eq\u001b[38;5;241m.\u001b[39mrhs,f)\n\u001b[1;32m     10\u001b[0m \u001b[38;5;66;03m# Replace LaplaceTransform(x(t), t, s) with X(s), LaplaceTransform(f(t), t, s) with F(s)\u001b[39;00m\n",
      "File \u001b[0;32m~/git/ctrl-gui/classes/defs_sympy.py:58\u001b[0m, in \u001b[0;36mL\u001b[0;34m(ft, var)\u001b[0m\n\u001b[1;32m     56\u001b[0m \u001b[38;5;28;01mdef\u001b[39;00m\u001b[38;5;250m \u001b[39m\u001b[38;5;21mL\u001b[39m(ft,var):\n\u001b[1;32m     57\u001b[0m     s, t \u001b[38;5;241m=\u001b[39m define_st()\n\u001b[0;32m---> 58\u001b[0m     f \u001b[38;5;241m=\u001b[39m \u001b[43msp\u001b[49m\u001b[38;5;241;43m.\u001b[39;49m\u001b[43mFunction\u001b[49m\u001b[43m(\u001b[49m\u001b[43mvar\u001b[49m\u001b[43m)\u001b[49m(t)\n\u001b[1;32m     59\u001b[0m     eq \u001b[38;5;241m=\u001b[39m sp\u001b[38;5;241m.\u001b[39mEq(ft)\n\u001b[1;32m     60\u001b[0m     \u001b[38;5;66;03m# var = add_symbol(var)\u001b[39;00m\n",
      "File \u001b[0;32m~/git/ctrl-gui/.venv/lib/python3.10/site-packages/sympy/core/cache.py:72\u001b[0m, in \u001b[0;36m__cacheit.<locals>.func_wrapper.<locals>.wrapper\u001b[0;34m(*args, **kwargs)\u001b[0m\n\u001b[1;32m     69\u001b[0m \u001b[38;5;129m@wraps\u001b[39m(func)\n\u001b[1;32m     70\u001b[0m \u001b[38;5;28;01mdef\u001b[39;00m\u001b[38;5;250m \u001b[39m\u001b[38;5;21mwrapper\u001b[39m(\u001b[38;5;241m*\u001b[39margs, \u001b[38;5;241m*\u001b[39m\u001b[38;5;241m*\u001b[39mkwargs):\n\u001b[1;32m     71\u001b[0m     \u001b[38;5;28;01mtry\u001b[39;00m:\n\u001b[0;32m---> 72\u001b[0m         retval \u001b[38;5;241m=\u001b[39m \u001b[43mcfunc\u001b[49m\u001b[43m(\u001b[49m\u001b[38;5;241;43m*\u001b[39;49m\u001b[43margs\u001b[49m\u001b[43m,\u001b[49m\u001b[43m \u001b[49m\u001b[38;5;241;43m*\u001b[39;49m\u001b[38;5;241;43m*\u001b[39;49m\u001b[43mkwargs\u001b[49m\u001b[43m)\u001b[49m\n\u001b[1;32m     73\u001b[0m     \u001b[38;5;28;01mexcept\u001b[39;00m \u001b[38;5;167;01mTypeError\u001b[39;00m \u001b[38;5;28;01mas\u001b[39;00m e:\n\u001b[1;32m     74\u001b[0m         \u001b[38;5;28;01mif\u001b[39;00m \u001b[38;5;129;01mnot\u001b[39;00m e\u001b[38;5;241m.\u001b[39margs \u001b[38;5;129;01mor\u001b[39;00m \u001b[38;5;129;01mnot\u001b[39;00m e\u001b[38;5;241m.\u001b[39margs[\u001b[38;5;241m0\u001b[39m]\u001b[38;5;241m.\u001b[39mstartswith(\u001b[38;5;124m'\u001b[39m\u001b[38;5;124munhashable type:\u001b[39m\u001b[38;5;124m'\u001b[39m):\n",
      "File \u001b[0;32m~/git/ctrl-gui/.venv/lib/python3.10/site-packages/sympy/core/function.py:448\u001b[0m, in \u001b[0;36mFunction.__new__\u001b[0;34m(cls, *args, **options)\u001b[0m\n\u001b[1;32m    444\u001b[0m \u001b[38;5;129m@cacheit\u001b[39m\n\u001b[1;32m    445\u001b[0m \u001b[38;5;28;01mdef\u001b[39;00m\u001b[38;5;250m \u001b[39m\u001b[38;5;21m__new__\u001b[39m(\u001b[38;5;28mcls\u001b[39m, \u001b[38;5;241m*\u001b[39margs, \u001b[38;5;241m*\u001b[39m\u001b[38;5;241m*\u001b[39moptions) \u001b[38;5;241m-\u001b[39m\u001b[38;5;241m>\u001b[39m \u001b[38;5;28mtype\u001b[39m[AppliedUndef]:  \u001b[38;5;66;03m# type: ignore\u001b[39;00m\n\u001b[1;32m    446\u001b[0m     \u001b[38;5;66;03m# Handle calls like Function('f')\u001b[39;00m\n\u001b[1;32m    447\u001b[0m     \u001b[38;5;28;01mif\u001b[39;00m \u001b[38;5;28mcls\u001b[39m \u001b[38;5;129;01mis\u001b[39;00m Function:\n\u001b[0;32m--> 448\u001b[0m         \u001b[38;5;28;01mreturn\u001b[39;00m \u001b[43mUndefinedFunction\u001b[49m\u001b[43m(\u001b[49m\u001b[38;5;241;43m*\u001b[39;49m\u001b[43margs\u001b[49m\u001b[43m,\u001b[49m\u001b[43m \u001b[49m\u001b[38;5;241;43m*\u001b[39;49m\u001b[38;5;241;43m*\u001b[39;49m\u001b[43moptions\u001b[49m\u001b[43m)\u001b[49m  \u001b[38;5;66;03m# type: ignore\u001b[39;00m\n\u001b[1;32m    449\u001b[0m     \u001b[38;5;28;01melse\u001b[39;00m:\n\u001b[1;32m    450\u001b[0m         \u001b[38;5;28;01mreturn\u001b[39;00m \u001b[38;5;28mcls\u001b[39m\u001b[38;5;241m.\u001b[39m_new_(\u001b[38;5;241m*\u001b[39margs, \u001b[38;5;241m*\u001b[39m\u001b[38;5;241m*\u001b[39moptions)\n",
      "File \u001b[0;32m~/git/ctrl-gui/.venv/lib/python3.10/site-packages/sympy/core/function.py:898\u001b[0m, in \u001b[0;36mUndefinedFunction.__new__\u001b[0;34m(mcl, name, bases, __dict__, **kwargs)\u001b[0m\n\u001b[1;32m    896\u001b[0m     name \u001b[38;5;241m=\u001b[39m name\u001b[38;5;241m.\u001b[39mname\n\u001b[1;32m    897\u001b[0m \u001b[38;5;28;01melif\u001b[39;00m \u001b[38;5;129;01mnot\u001b[39;00m \u001b[38;5;28misinstance\u001b[39m(name, \u001b[38;5;28mstr\u001b[39m):\n\u001b[0;32m--> 898\u001b[0m     \u001b[38;5;28;01mraise\u001b[39;00m \u001b[38;5;167;01mTypeError\u001b[39;00m(\u001b[38;5;124m'\u001b[39m\u001b[38;5;124mexpecting string or Symbol for name\u001b[39m\u001b[38;5;124m'\u001b[39m)\n\u001b[1;32m    899\u001b[0m \u001b[38;5;28;01melse\u001b[39;00m:\n\u001b[1;32m    900\u001b[0m     commutative \u001b[38;5;241m=\u001b[39m assumptions\u001b[38;5;241m.\u001b[39mget(\u001b[38;5;124m'\u001b[39m\u001b[38;5;124mcommutative\u001b[39m\u001b[38;5;124m'\u001b[39m, \u001b[38;5;28;01mNone\u001b[39;00m)\n",
      "\u001b[0;31mTypeError\u001b[0m: expecting string or Symbol for name"
     ]
    }
   ],
   "source": [
    "# Time-domain differential equation\n",
    "eq = sp.Eq(lhs,rhs)\n",
    "\n",
    "# Take Laplace transform of both sides\n",
    "lhs_L = sp.laplace_transform(eq.lhs, t, s, noconds=True)\n",
    "rhs_L = sp.laplace_transform(eq.rhs, t, s, noconds=True)\n",
    "\n",
    "# Replace LaplaceTransform(x(t), t, s) with X(s), LaplaceTransform(f(t), t, s) with F(s)\n",
    "lhs_L = lhs_L.replace(sp.LaplaceTransform(x, t, s), X)\n",
    "rhs_L = rhs_L.replace(sp.LaplaceTransform(f, t, s), F)\n",
    "print(lhs_L)\n",
    "print(rhs_L)"
   ]
  },
  {
   "cell_type": "code",
   "execution_count": 8,
   "id": "407fa776",
   "metadata": {},
   "outputs": [
    {
     "name": "stdout",
     "output_type": "stream",
     "text": [
      "w_n**2*x(t)/s + 2*w_n*zeta*Derivative(x(t), t)/s + Derivative(x(t), (t, 2))/s\n",
      "f(t)/s\n"
     ]
    }
   ],
   "source": [
    "# Substitute initial conditions\n",
    "lhs_L = lhs_L.subs(subs_ic)\n",
    "rhs_L = rhs_L.subs(subs_ic)\n",
    "print(lhs_L)\n",
    "print(rhs_L)"
   ]
  },
  {
   "cell_type": "code",
   "execution_count": 9,
   "id": "a549fefb",
   "metadata": {},
   "outputs": [
    {
     "ename": "IndexError",
     "evalue": "list index out of range",
     "output_type": "error",
     "traceback": [
      "\u001b[0;31m---------------------------------------------------------------------------\u001b[0m",
      "\u001b[0;31mIndexError\u001b[0m                                Traceback (most recent call last)",
      "Cell \u001b[0;32mIn[9], line 3\u001b[0m\n\u001b[1;32m      1\u001b[0m \u001b[38;5;66;03m# Simplify Laplace-domain equation\u001b[39;00m\n\u001b[1;32m      2\u001b[0m laplace_eq \u001b[38;5;241m=\u001b[39m sp\u001b[38;5;241m.\u001b[39mEq(lhs_L,rhs_L)\n\u001b[0;32m----> 3\u001b[0m X_s \u001b[38;5;241m=\u001b[39m \u001b[43msp\u001b[49m\u001b[38;5;241;43m.\u001b[39;49m\u001b[43msolve\u001b[49m\u001b[43m(\u001b[49m\u001b[43mlaplace_eq\u001b[49m\u001b[43m,\u001b[49m\u001b[43m \u001b[49m\u001b[43mX\u001b[49m\u001b[43m)\u001b[49m\u001b[43m[\u001b[49m\u001b[38;5;241;43m0\u001b[39;49m\u001b[43m]\u001b[49m\n\u001b[1;32m      4\u001b[0m X_s \u001b[38;5;241m=\u001b[39m sp\u001b[38;5;241m.\u001b[39msimplify(X_s)\n\u001b[1;32m      5\u001b[0m X_s \u001b[38;5;241m=\u001b[39m X_s\u001b[38;5;241m.\u001b[39msubs(ics)\n",
      "\u001b[0;31mIndexError\u001b[0m: list index out of range"
     ]
    }
   ],
   "source": [
    "# Simplify Laplace-domain equation\n",
    "laplace_eq = sp.Eq(lhs_L,rhs_L)\n",
    "X_s = sp.solve(laplace_eq, X)[0]\n",
    "X_s = sp.simplify(X_s)\n",
    "X_s = X_s.subs(ics)\n",
    "print(\"\\nX(s) =\")\n",
    "print(X_s)"
   ]
  },
  {
   "cell_type": "code",
   "execution_count": null,
   "id": "3d81277e",
   "metadata": {},
   "outputs": [
    {
     "name": "stdout",
     "output_type": "stream",
     "text": [
      "\n",
      "Transfer Function G(s) = X(s)/F(s) =\n",
      "         1         \n",
      "───────────────────\n",
      " 2                2\n",
      "s  + 2⋅s⋅wₙ⋅ζ + wₙ \n"
     ]
    }
   ],
   "source": [
    "# Transfer function G(s) = X(s)/F(s)\n",
    "G = sp.simplify(X_s / F)\n",
    "print(\"\\nTransfer Function G(s) = X(s)/F(s) =\")\n",
    "sp.pretty_print(G)\n"
   ]
  },
  {
   "cell_type": "code",
   "execution_count": null,
   "id": "d1f69711",
   "metadata": {},
   "outputs": [],
   "source": []
  },
  {
   "cell_type": "code",
   "execution_count": null,
   "id": "8368ba1f",
   "metadata": {},
   "outputs": [],
   "source": []
  }
 ],
 "metadata": {
  "kernelspec": {
   "display_name": ".venv",
   "language": "python",
   "name": "python3"
  },
  "language_info": {
   "codemirror_mode": {
    "name": "ipython",
    "version": 3
   },
   "file_extension": ".py",
   "mimetype": "text/x-python",
   "name": "python",
   "nbconvert_exporter": "python",
   "pygments_lexer": "ipython3",
   "version": "3.10.12"
  }
 },
 "nbformat": 4,
 "nbformat_minor": 5
}
